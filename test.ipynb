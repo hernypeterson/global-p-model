{
 "cells": [
  {
   "cell_type": "code",
   "execution_count": 25,
   "metadata": {},
   "outputs": [],
   "source": [
    "import numpy as np\n",
    "from scipy.integrate import odeint\n",
    "from scipy.interpolate import interp1d\n",
    "import matplotlib.pyplot as plt\n",
    "import scipy.linalg as LA"
   ]
  },
  {
   "cell_type": "code",
   "execution_count": 26,
   "metadata": {},
   "outputs": [],
   "source": [
    "\n",
    "def steady_state(k_matrix):\n",
    "    \"\"\"Compute steady state for a system y'=Ay\"\"\"\n",
    "    w, v = LA.eig(k_matrix) # evecs & evals\n",
    "    return np.abs(v[:, np.argmin(np.abs(w))]) # return evec with smallest eval"
   ]
  },
  {
   "cell_type": "code",
   "execution_count": 27,
   "metadata": {},
   "outputs": [
    {
     "data": {
      "text/plain": [
       "array([0.70710678, 0.70710678])"
      ]
     },
     "execution_count": 27,
     "metadata": {},
     "output_type": "execute_result"
    }
   ],
   "source": [
    "A = np.array([[-1,1],[1,-1]])\n",
    "\n",
    "steady_state(A)"
   ]
  },
  {
   "cell_type": "code",
   "execution_count": 28,
   "metadata": {},
   "outputs": [
    {
     "data": {
      "text/plain": [
       "[<matplotlib.lines.Line2D at 0x7f785905ae50>,\n",
       " <matplotlib.lines.Line2D at 0x7f785905af70>,\n",
       " <matplotlib.lines.Line2D at 0x7f7859063040>,\n",
       " <matplotlib.lines.Line2D at 0x7f7859063100>,\n",
       " <matplotlib.lines.Line2D at 0x7f78590631c0>]"
      ]
     },
     "execution_count": 28,
     "metadata": {},
     "output_type": "execute_result"
    },
    {
     "data": {
      "image/png": "[encoded data removed]",
      "text/plain": [
       "<Figure size 432x288 with 1 Axes>"
      ]
     },
     "metadata": {
      "needs_background": "light"
     },
     "output_type": "display_data"
    }
   ],
   "source": [
    "import numpy as np\n",
    "from scipy.integrate import odeint\n",
    "from scipy.interpolate import interp1d\n",
    "import matplotlib.pyplot as plt\n",
    "import scipy.linalg as LA\n",
    "\n",
    "# functions:\n",
    "def fill_hollow(matrix):\n",
    "    \"\"\"Sets diagonal entries so each column sums to zero.\"\"\"\n",
    "    matrix -= np.diag(matrix.sum(axis=0))\n",
    "\n",
    "def row_col_test(matrix):\n",
    "    \"\"\"True if all columns and rows sum to zero.\"\"\"\n",
    "    return matrix.sum(axis=0) == matrix.sum(axis=1) == 0\n",
    "\n",
    "def steady_state(k_matrix):\n",
    "    \"\"\"Compute steady state for a system y'=Ay\"\"\"\n",
    "    w, v = LA.eig(k_matrix)\n",
    "    return v[:, np.argmin(np.abs(w))]\n",
    "\n",
    "# reservoir names\n",
    "boxes = [\"sed\", \"soil\", \"surf\", \"biota\", \"deep\"]\n",
    "# number of boxes\n",
    "N = len(boxes)\n",
    "\n",
    "# for readable indexing\n",
    "sed, soil, surf, biota, deep = np.arange(N)\n",
    "\n",
    "# reservoir magnitute at steady state (Tg P)\n",
    "reservoir_ss = np.array([2e9, 2e5, 2800, 44, 1e5])\n",
    "total = reservoir_ss.sum()\n",
    "\n",
    "# initialize flux matrix\n",
    "P_flux = np.zeros((N,N))\n",
    "\n",
    "# dependencies for flux definitions\n",
    "weathering_rate = 2e4 # Tg sediment /yr\n",
    "crustal_p_abundance = 0.001 # g P /g sediment\n",
    "insol_frac = 0.9\n",
    "\n",
    "redfield_C_P_molar = 106\n",
    "P_molar_mass = 31 # g /mol\n",
    "C_molar_mass = 12 # g /mol\n",
    "redfield_C_P_mass = redfield_C_P_molar * C_molar_mass / P_molar_mass\n",
    "\n",
    "gross_surf_prod = 4e4 # Tg C /yr\n",
    "\n",
    "remin_frac = .96\n",
    "\n",
    "vert_exchange = 2 # m /yr\n",
    "surf_p_conc = 0.025 # g /m^3\n",
    "deep_p_conc = 0.080 # g /m^3\n",
    "ocean_surf_area = 3.5e14 # m^2\n",
    "g_to_Tg = 1e12 # g /Tg\n",
    "\n",
    "# define well constrained fluxes based on parameters\n",
    "# entries set according to P_flux[TO,FROM]\n",
    "P_flux[sed,soil] = weathering_rate * crustal_p_abundance * insol_frac\n",
    "P_flux[surf,soil] = weathering_rate * crustal_p_abundance * (1 - insol_frac)\n",
    "P_flux[biota,surf] = gross_surf_prod / redfield_C_P_mass\n",
    "P_flux[surf,biota] = P_flux[biota,surf] * remin_frac\n",
    "P_flux[deep,biota] = P_flux[biota,surf] * (1 - remin_frac)\n",
    "P_flux[deep,surf] = vert_exchange * surf_p_conc * ocean_surf_area / g_to_Tg\n",
    "P_flux[surf,deep] = vert_exchange * deep_p_conc * ocean_surf_area / g_to_Tg\n",
    "\n",
    "# define poorly constrained fluxes based on steady state\n",
    "P_flux[sed,deep] = (P_flux.sum(axis=1)-P_flux.sum(axis=0))[deep]\n",
    "P_flux[soil,sed] = (P_flux.sum(axis=1)-P_flux.sum(axis=0))[sed]\n",
    "\n",
    "# fill diagonal terms\n",
    "fill_hollow(P_flux)\n",
    "\n",
    "# fluxes at steady state (Tg P /y)\n",
    "flux_ss = np.array([[ 0, 18,   0,   0,  2],\n",
    "                    [20,  0,   0,   0,  0],\n",
    "                    [ 0,  2,   0, 940, 56],\n",
    "                    [ 0,  0, 980,   0,  0],\n",
    "                    [ 0,  0,  18,  40,  0]])\n",
    "\n",
    "# fill diagonal terms of flux_ss matrix\n",
    "fill_hollow(flux_ss)\n",
    "\n",
    "# flux (Tg P /yr) to linear rate constants (/yr)\n",
    "# divide each column of P_flux by entry in vector of reservoir sizes\n",
    "K = P_flux / reservoir_ss\n",
    "\n",
    "# constant coeff. unforced system y' = Ky\n",
    "def unforced_const_coeff(y, t):\n",
    "    return K @ y\n",
    "\n",
    "# time-dependent forcing from Table 1 Avigad & Gvirtzman (2009)\n",
    "erosion_forcing = {\n",
    "    'time': np.array([635.0, 630.0, 615.0, 600.0, 530.0]), # Ma\n",
    "    'crustal_thickness': np.array([50, 50, 42, 37, 35]), # km\n",
    "    'mantle_lith_thickness': np.array([150, 0, 55, 85, 100]), # km\n",
    "    'moho_temp': np.array([3, 1300, 900, 850, 650]), # deg C\n",
    "    'crust_topo_contrib': np.array([-2.3, 3, 2.2, 1.7, 1.5]),\n",
    "    'mantle_topo_contrib': np.array([0, 0, -0.5, -0.75, -1.3]),\n",
    "    'calc_topo': np.array([0.5, 3, 1.7, 0.95, 0.2, ]),\n",
    "}\n",
    "\n",
    "erosion_forcing['time'] *= -1.0e9 # convert Ma to years\n",
    "\n",
    "erosion_time_years = np.arange(erosion_forcing['time'][0], erosion_forcing['time'][-1], 100000)\n",
    "\n",
    "interpolated_topo = interp1d(erosion_forcing['time'], erosion_forcing['calc_topo'])\n",
    "\n",
    "def general(y, t):\n",
    "    A = K\n",
    "    b = np.zeros(N)\n",
    "    return A @ y + b\n",
    "\n",
    "# initial reservoir conditions\n",
    "reservoir_init = np.array([2e9, 2e5, 280, 44, 1e5]) # Tg P\n",
    "\n",
    "# scale to match global magnitude\n",
    "reservoir_init *= (total / reservoir_init.sum())\n",
    "\n",
    "# time interval\n",
    "t_int = np.arange(1e3) # yr\n",
    "\n",
    "# solver\n",
    "solution = odeint(unforced_const_coeff, reservoir_init, t_int)\n",
    "\n",
    "# ss solution for plot comparison\n",
    "solution_ss = np.tile(reservoir_ss, len(t_int)).reshape(len(t_int), N)\n",
    "\n",
    "# plot\n",
    "fig, ax = plt.subplots()\n",
    "ax.plot(solution)\n",
    "ax.set_yscale('log')\n",
    "plt.legend(boxes, loc='upper right')\n",
    "ax.plot(solution_ss, \"--\", linewidth=0.5, color='grey')"
   ]
  },
  {
   "cell_type": "code",
   "execution_count": 29,
   "metadata": {},
   "outputs": [
    {
     "data": {
      "text/plain": [
       "array([-4.99999997e-10, -4.99999997e-10, -4.99999997e-10, -4.99999997e-10,\n",
       "       -4.99999997e-10])"
      ]
     },
     "execution_count": 29,
     "metadata": {},
     "output_type": "execute_result"
    }
   ],
   "source": [
    "steady_state(flux_ss / reservoir_ss) / reservoir_ss"
   ]
  },
  {
   "cell_type": "code",
   "execution_count": 30,
   "metadata": {},
   "outputs": [
    {
     "data": {
      "text/plain": [
       "array([-6.350000e+11, -6.349999e+11, -6.349998e+11, ..., -5.300003e+11,\n",
       "       -5.300002e+11, -5.300001e+11])"
      ]
     },
     "execution_count": 30,
     "metadata": {},
     "output_type": "execute_result"
    }
   ],
   "source": [
    "erosion_time_years"
   ]
  },
  {
   "cell_type": "code",
   "execution_count": 31,
   "metadata": {},
   "outputs": [
    {
     "data": {
      "text/plain": [
       "1050000"
      ]
     },
     "execution_count": 31,
     "metadata": {},
     "output_type": "execute_result"
    }
   ],
   "source": [
    "len(erosion_time_years)"
   ]
  },
  {
   "cell_type": "code",
   "execution_count": 32,
   "metadata": {},
   "outputs": [
    {
     "name": "stdout",
     "output_type": "stream",
     "text": [
      "<scipy.interpolate.interpolate.interp1d object at 0x7f7858f62130>\n"
     ]
    }
   ],
   "source": [
    "print(interpolated_topo)"
   ]
  },
  {
   "cell_type": "code",
   "execution_count": null,
   "metadata": {},
   "outputs": [],
   "source": []
  }
 ],
 "metadata": {
  "kernelspec": {
   "display_name": "Python 3.8.8",
   "language": "python",
   "name": "python3"
  },
  "language_info": {
   "codemirror_mode": {
    "name": "ipython",
    "version": 3
   },
   "file_extension": ".py",
   "mimetype": "text/x-python",
   "name": "python",
   "nbconvert_exporter": "python",
   "pygments_lexer": "ipython3",
   "version": "3.8.8"
  },
  "orig_nbformat": 4,
  "vscode": {
   "interpreter": {
    "hash": "38cca0c38332a56087b24af0bc80247f4fced29cb4f7f437d91dc159adec9c4e"
   }
  }
 },
 "nbformat": 4,
 "nbformat_minor": 2
}
