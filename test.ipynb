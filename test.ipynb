{
 "cells": [
  {
   "cell_type": "code",
   "execution_count": 2,
   "metadata": {},
   "outputs": [],
   "source": [
    "import numpy as np\n",
    "import pandas as pd\n",
    "from scipy.integrate import odeint\n",
    "from scipy.interpolate import interp1d\n",
    "import matplotlib.pyplot as plt\n",
    "import scipy.linalg as LA\n",
    "from types import SimpleNamespace"
   ]
  },
  {
   "cell_type": "code",
   "execution_count": null,
   "metadata": {},
   "outputs": [],
   "source": [
    "# fluxes at steady state (Tg P /y)\n",
    "flux_ss = np.array([[ 0, 18,   0,   0,  2],\n",
    "                    [20,  0,   0,   0,  0],\n",
    "                    [ 0,  2,   0, 940, 56],\n",
    "                    [ 0,  0, 980,   0,  0],\n",
    "                    [ 0,  0,  18,  40,  0]])"
   ]
  },
  {
   "cell_type": "code",
   "execution_count": null,
   "metadata": {},
   "outputs": [],
   "source": [
    "mantle_model = pd.DataFrame({\n",
    "    'time': [635.0, 630.0, 615.0, 600.0, 530.0], # Ma\n",
    "    'crust_thickness': [50, 50, 42, 37, 35], # km\n",
    "    'mantle_lith_thickness': [150, 0, 55, 85, 100], # km\n",
    "    'moho_temp': [3, 1300, 900, 850, 650], # deg C\n",
    "    'crust_topo_contrib': [-2.3, 3, 2.2, 1.7, 1.5], # km\n",
    "    'mantle_topo_contrib': [0, 0, -0.5, -0.75, -1.3], # km\n",
    "    'calc_topo': [0.5, 3, 1.7, 0.95, 0.2, ], # km\n",
    "})"
   ]
  },
  {
   "cell_type": "code",
   "execution_count": null,
   "metadata": {},
   "outputs": [],
   "source": [
    "def steady_state(matrix):\n",
    "    \"\"\"Compute steady state for a system y'=Ay\"\"\"\n",
    "    w, v = LA.eig(matrix) # evecs & evals\n",
    "    return np.abs(v[:, np.argmin(np.abs(w))]) # evec with eval closest to 0"
   ]
  }
 ],
 "metadata": {
  "kernelspec": {
   "display_name": "Python 3.8.8",
   "language": "python",
   "name": "python3"
  },
  "language_info": {
   "codemirror_mode": {
    "name": "ipython",
    "version": 3
   },
   "file_extension": ".py",
   "mimetype": "text/x-python",
   "name": "python",
   "nbconvert_exporter": "python",
   "pygments_lexer": "ipython3",
   "version": "3.8.8"
  },
  "orig_nbformat": 4,
  "vscode": {
   "interpreter": {
    "hash": "38cca0c38332a56087b24af0bc80247f4fced29cb4f7f437d91dc159adec9c4e"
   }
  }
 },
 "nbformat": 4,
 "nbformat_minor": 2
}
